{
 "cells": [
  {
   "cell_type": "markdown",
   "id": "6ac7238d-476b-489c-a8e1-f26437cd5fbe",
   "metadata": {},
   "source": [
    "# Introduction to Pandas (Series)"
   ]
  },
  {
   "cell_type": "markdown",
   "id": "36a98522-eee0-4679-8727-edfa1615052d",
   "metadata": {},
   "source": [
    "## Data Structure introduction"
   ]
  },
  {
   "cell_type": "code",
   "execution_count": 1,
   "id": "82ede87f-98d0-48ea-8e77-934957c04748",
   "metadata": {},
   "outputs": [],
   "source": [
    "import pandas as pd # As \"pd\" standard normal convention or practice use by majority. But can rename whatever you want.\n",
    "import numpy as np"
   ]
  },
  {
   "cell_type": "markdown",
   "id": "90b1d775-3264-489d-874c-bef0d11a6513",
   "metadata": {},
   "source": [
    "## Series\n",
    "is a one-dimensional labeled array capable of holding any data type (integers, strings, floating point numbers, Python objects, etc.). The axis labels are collectively referred to as the index. The basic method to create a Series is to call:"
   ]
  },
  {
   "cell_type": "markdown",
   "id": "c96da709-3b09-45ec-8a9e-d12c8dbfc9f7",
   "metadata": {},
   "source": [
    "#### Basic method to create a series\n",
    "series_name = pd.Series(data, index=index)"
   ]
  },
  {
   "cell_type": "code",
   "execution_count": 2,
   "id": "50648395-6dff-4e1b-9d4f-b82d7e1a8ed7",
   "metadata": {
    "collapsed": true,
    "jupyter": {
     "outputs_hidden": true
    },
    "scrolled": true
   },
   "outputs": [
    {
     "data": {
      "text/plain": [
       "0     1\n",
       "1     2\n",
       "2     5\n",
       "3     3\n",
       "4     7\n",
       "5     5\n",
       "6     8\n",
       "7    10\n",
       "8     9\n",
       "dtype: int64"
      ]
     },
     "execution_count": 2,
     "metadata": {},
     "output_type": "execute_result"
    }
   ],
   "source": [
    "# Data can be list, Python Dictionary or ndarray\n",
    "num = [1, 2, 5, 3, 7, 5, 8, 10, 9]\n",
    "courses = {1:\"Physics\", 2: \"Science\", 3: \"Algebra\"}\n",
    "\n",
    "series_num = pd.Series(num)\n",
    "series_dict = pd.Series(courses)\n",
    "# series_ndarray = pd.Series(np.random.randn(5), index=[\"a.1\", \"a.2\", \"a.3\", \"a.4\", \"a.5\"])\n",
    "\n",
    "#Run the dataframe\n",
    "series_num\n",
    "# series_dict\n",
    "# series_ndarray"
   ]
  },
  {
   "cell_type": "code",
   "execution_count": 3,
   "id": "f820f05c-4c53-4d1e-8cc5-1d2fa20975d3",
   "metadata": {},
   "outputs": [
    {
     "data": {
      "text/plain": [
       "1     1\n",
       "2     2\n",
       "3     5\n",
       "4     3\n",
       "5     7\n",
       "6     5\n",
       "7     8\n",
       "8    10\n",
       "9     9\n",
       "dtype: int64"
      ]
     },
     "execution_count": 3,
     "metadata": {},
     "output_type": "execute_result"
    }
   ],
   "source": [
    "# Ways of setting an index other than starting to zero.\n",
    "# Can be done in 2 ways.\n",
    "#1\n",
    "series_num.index = series_num.index + 1\n",
    "# The downside of the above code if repeated the index will be kept adding.\n",
    "# e.g if run the 2nd time the 1st index will be 2 (not 1)\n",
    "\n",
    "#2\n",
    "# series_num.index = np.arange(1, len(num)+1)\n",
    "series_num"
   ]
  },
  {
   "cell_type": "code",
   "execution_count": 4,
   "id": "d17db80d-ac0d-41b3-9558-5cf55fc06e49",
   "metadata": {},
   "outputs": [
    {
     "data": {
      "text/plain": [
       "array([ 1,  2,  5,  3,  7,  5,  8, 10,  9], dtype=int64)"
      ]
     },
     "execution_count": 4,
     "metadata": {},
     "output_type": "execute_result"
    }
   ],
   "source": [
    "# Create an actual ndarray use the to_numpy() method.\n",
    "series_num.to_numpy()"
   ]
  },
  {
   "cell_type": "markdown",
   "id": "635a7eb0-a1ae-4b7d-99ef-f96915f7a6de",
   "metadata": {},
   "source": [
    "#### Accessing rows or values"
   ]
  },
  {
   "cell_type": "code",
   "execution_count": 5,
   "id": "e3fdba2c-473a-4efd-b505-65476e7025de",
   "metadata": {},
   "outputs": [],
   "source": [
    "# Accessing the list or an array by individual or slcing\n",
    "# series_num[2]\n",
    "# series_num[1:]\n",
    "# series_num.loc[3]\n",
    "\n",
    "# series_dict[1] # 'Physics'\n",
    "\n",
    "# series_num.array \n",
    "# <PandasArray>\n",
    "# [1, 2, 5, 3, 7, 5, 8, 10, 9]\n",
    "# Length: 9, dtype: int64"
   ]
  },
  {
   "cell_type": "code",
   "execution_count": 6,
   "id": "7699233d-df62-4b4e-9d9c-7346d8f1ef84",
   "metadata": {},
   "outputs": [],
   "source": [
    "# If a value is not in the list or array will raise an error.\n",
    "# len(series_num)-1 # 8 values only\n",
    "# series_num[10] # This will raise an error because series_num lenght is 9\n",
    "\n",
    "# Use the get() method. Missing value will return None or specified default.\n",
    "# series_num.get(9, \"Not Found\") # \"Not Found\"\n",
    "# series_num.get(8, \"Not Found\") # 9\n"
   ]
  },
  {
   "cell_type": "code",
   "execution_count": 7,
   "id": "9a2aae85-6db5-4350-ac8c-8a6cb744f610",
   "metadata": {},
   "outputs": [
    {
     "data": {
      "text/plain": [
       "False"
      ]
     },
     "execution_count": 7,
     "metadata": {},
     "output_type": "execute_result"
    }
   ],
   "source": [
    "# Checking a value if it exist\n",
    "# 1 in series_num # Return True\n",
    "\n",
    "# Check a dictionary series by key\n",
    "# 1 in series_dict # True\n",
    "# 5 in series_dict # False\n",
    "\n",
    "# Check a dictionary series by values\n",
    "# \"Physics\" in series_dict.values # True\n",
    "\"History\" in series_dict.values # False"
   ]
  },
  {
   "cell_type": "markdown",
   "id": "1b3fc658-bb02-4ed2-bcd0-0f1e3be5f828",
   "metadata": {},
   "source": [
    "#### Naming and Renaming"
   ]
  },
  {
   "cell_type": "code",
   "execution_count": 9,
   "id": "8a25271a-9d8d-4d72-ba3d-5ddc37fab545",
   "metadata": {
    "scrolled": true
   },
   "outputs": [
    {
     "data": {
      "text/plain": [
       "'Play Outcome 3'"
      ]
     },
     "execution_count": 9,
     "metadata": {},
     "output_type": "execute_result"
    }
   ],
   "source": [
    "# Name a Series. It has a name attribute!\n",
    "result = pd.Series(np.random.choice([\"Win\", \"Loose\", \"Draw\"], 10), name = \"Play Outcome\")\n",
    "# result.name\n",
    "\n",
    "\n",
    "# Can also rename by creating another object. Result and Result_2 are different object.\n",
    "# result_2 = result.rename(\"Play Outcome 2\")\n",
    "# result_2.name\n",
    "\n",
    "#If want the same object\n",
    "result = result.rename(\"Play Outcome 3\")\n",
    "result.name\n"
   ]
  },
  {
   "cell_type": "markdown",
   "id": "3edc7632-31b7-4526-801d-41bc3096b5a0",
   "metadata": {},
   "source": [
    "#### Can perform basic operations"
   ]
  },
  {
   "cell_type": "code",
   "execution_count": 10,
   "id": "78cffbdb-7e9f-4b68-9ff7-e6bf67afd09a",
   "metadata": {},
   "outputs": [],
   "source": [
    "# Data\n",
    "# series_stat = pd.Series(np.random.randint(20, 51, 20))\n",
    "# series_stat.array\n",
    "\n",
    "_stat = [35, 27, 40, 50, 38, 23, 49, 39, \n",
    "               47, 28, 42, 38, 38, 46, 30, 22, \n",
    "               44, 46, 21, 45]\n",
    "\n",
    "series_stat = pd.Series(_stat)\n",
    "\n",
    "# Mean or Average\n",
    "# series_stat.mean() # 37.4\n",
    "# series_stat.mode() # 38 occurs 3 times\n",
    "# series_stat.sum() # 748\n",
    "# series_stat.count() # 20\n",
    "# series_stat.value_counts() # Counts the occurence of each data\n",
    "# series_stat.cumsum() # Cumulative sum\n",
    "# series_stat.quantile()\n",
    "# series_stat.max()\n",
    "# series_stat.min()"
   ]
  },
  {
   "cell_type": "markdown",
   "id": "a945663c-3cd5-45db-b137-adec4e0816df",
   "metadata": {
    "scrolled": true
   },
   "source": [
    "#### After performing the above. It can be used for visualization"
   ]
  },
  {
   "cell_type": "code",
   "execution_count": 12,
   "id": "c9120e5d-219a-4449-967b-3ffa098e4e27",
   "metadata": {},
   "outputs": [
    {
     "data": {
      "text/plain": [
       "<AxesSubplot: >"
      ]
     },
     "execution_count": 12,
     "metadata": {},
     "output_type": "execute_result"
    },
    {
     "data": {
      "image/png": "[encoded data removed]",
      "text/plain": [
       "<Figure size 640x480 with 1 Axes>"
      ]
     },
     "metadata": {},
     "output_type": "display_data"
    }
   ],
   "source": [
    "# import pyplot as plt\n",
    "series_stat.cumsum().plot(color=\"Green\")"
   ]
  },
  {
   "cell_type": "code",
   "execution_count": 21,
   "id": "597bd79e-08d2-46ca-a2d5-07e8162990b6",
   "metadata": {},
   "outputs": [
    {
     "data": {
      "text/plain": [
       "<AxesSubplot: >"
      ]
     },
     "execution_count": 21,
     "metadata": {},
     "output_type": "execute_result"
    },
    {
     "data": {
      "image/png": "[encoded data removed]",
      "text/plain": [
       "<Figure size 640x480 with 1 Axes>"
      ]
     },
     "metadata": {},
     "output_type": "display_data"
    }
   ],
   "source": [
    "# To generate a time series\n",
    "date_series = pd.Series(np.random.randn(500), index = pd.date_range(\"1/1/2022\", periods = 500))\n",
    "\n",
    "date_series = date_series.cumsum()\n",
    "\n",
    "date_series.plot(color = \"#ff0000\", linestyle = '--', marker = 'o', markersize = 1)\n"
   ]
  },
  {
   "cell_type": "code",
   "execution_count": 15,
   "id": "5d8d306d-4a6d-4a6c-9139-c9c9f403af33",
   "metadata": {},
   "outputs": [
    {
     "data": {
      "text/plain": [
       "<AxesSubplot: ylabel='Frequency'>"
      ]
     },
     "execution_count": 15,
     "metadata": {},
     "output_type": "execute_result"
    },
    {
     "data": {
      "image/png": "[encoded data removed]",
      "text/plain": [
       "<Figure size 640x480 with 1 Axes>"
      ]
     },
     "metadata": {},
     "output_type": "display_data"
    }
   ],
   "source": [
    "date_series.plot.hist(log = True)"
   ]
  },
  {
   "cell_type": "code",
   "execution_count": 16,
   "id": "b9a8e833-7f2d-459a-a6d7-13ace002c9cb",
   "metadata": {},
   "outputs": [
    {
     "data": {
      "text/plain": [
       "count     9.000000\n",
       "mean      5.555556\n",
       "std       3.166667\n",
       "min       1.000000\n",
       "25%       3.000000\n",
       "50%       5.000000\n",
       "75%       8.000000\n",
       "max      10.000000\n",
       "dtype: float64"
      ]
     },
     "execution_count": 16,
     "metadata": {},
     "output_type": "execute_result"
    }
   ],
   "source": [
    "# Generate a general statistic of numerical data\n",
    "# date_series.describe()\n",
    "series_dict.describe()\n",
    "series_num.describe()"
   ]
  },
  {
   "cell_type": "code",
   "execution_count": 17,
   "id": "01a59514-27e7-4309-b356-e58f04cd6600",
   "metadata": {},
   "outputs": [
    {
     "name": "stdout",
     "output_type": "stream",
     "text": [
      "<class 'pandas.core.series.Series'>\n",
      "RangeIndex: 9 entries, 1 to 9\n",
      "Series name: None\n",
      "Non-Null Count  Dtype\n",
      "--------------  -----\n",
      "9 non-null      int64\n",
      "dtypes: int64(1)\n",
      "memory usage: 204.0 bytes\n"
     ]
    }
   ],
   "source": [
    "series_num.info()"
   ]
  },
  {
   "cell_type": "code",
   "execution_count": null,
   "id": "1f62adea-b399-448e-a2dd-f60897fe3a60",
   "metadata": {},
   "outputs": [],
   "source": []
  }
 ],
 "metadata": {
  "kernelspec": {
   "display_name": "Python 3 (ipykernel)",
   "language": "python",
   "name": "python3"
  },
  "language_info": {
   "codemirror_mode": {
    "name": "ipython",
    "version": 3
   },
   "file_extension": ".py",
   "mimetype": "text/x-python",
   "name": "python",
   "nbconvert_exporter": "python",
   "pygments_lexer": "ipython3",
   "version": "3.10.11"
  }
 },
 "nbformat": 4,
 "nbformat_minor": 5
}
