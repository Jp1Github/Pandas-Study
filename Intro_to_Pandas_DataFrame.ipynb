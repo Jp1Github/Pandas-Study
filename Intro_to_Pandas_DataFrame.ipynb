{
 "cells": [
  {
   "cell_type": "markdown",
   "id": "6ac7238d-476b-489c-a8e1-f26437cd5fbe",
   "metadata": {},
   "source": [
    "# Introduction to Pandas (DataFrame)"
   ]
  },
  {
   "cell_type": "markdown",
   "id": "36a98522-eee0-4679-8727-edfa1615052d",
   "metadata": {},
   "source": [
    "## Data Structure introduction to DataFrame"
   ]
  },
  {
   "cell_type": "code",
   "execution_count": 1,
   "id": "82ede87f-98d0-48ea-8e77-934957c04748",
   "metadata": {},
   "outputs": [],
   "source": [
    "import pandas as pd # As \"pd\" alias a standard normal convention or practice use by majority. But can rename whatever you want.\n",
    "import numpy as np"
   ]
  },
  {
   "cell_type": "markdown",
   "id": "90b1d775-3264-489d-874c-bef0d11a6513",
   "metadata": {},
   "source": [
    "## DataFrame\n",
    "is a 2-dimensional labeled data structure with columns of potentially different types. You can think of it like a spreadsheet or SQL table, or a dict of Series objects. It is generally the most commonly used pandas object. \n",
    "\n",
    "Like Series, DataFrame accepts many different kinds of input:\r\n",
    "\r\n",
    "Dict of 1D ndarrays, lists, dicts, or Series\r\n",
    "\r\n",
    "2-D numpy.ndarray\r\n",
    "\r\n",
    "Structured or record ndarray\r\n",
    "\r\n",
    "A Series\r\n",
    "\r\n",
    "Another DataFrame"
   ]
  },
  {
   "cell_type": "markdown",
   "id": "c96da709-3b09-45ec-8a9e-d12c8dbfc9f7",
   "metadata": {},
   "source": [
    "#### Basic method to create a dataframe\n",
    "\"df\" is an acronym for DataFrame\n",
    "\n",
    "df = pd.Series(data, index=index)"
   ]
  },
  {
   "cell_type": "markdown",
   "id": "c0b03066-e938-4469-9de3-997366277c14",
   "metadata": {},
   "source": [
    "#### Generate data"
   ]
  },
  {
   "cell_type": "code",
   "execution_count": 2,
   "id": "9e3a734b-3d51-4385-acea-c86aa6402fc3",
   "metadata": {
    "scrolled": true
   },
   "outputs": [],
   "source": [
    "# Function get_gameStat to generate a fictituous data.\n",
    "def get_gameStat(size):\n",
    "    df = pd.DataFrame()\n",
    "    df['Position'] = np.random.choice(['Front', 'Back', 'Center'], size)\n",
    "    df['Age'] = np.random.randint(18, 40, size)\n",
    "    df['Team_color'] = np.random.choice(['Red', 'Blue', 'Black', 'Orange', 'White'], size)\n",
    "    df['Outcome'] = np.random.choice(['Win', 'Lose', 'Tie'], size)\n",
    "    df['Odds'] = np.random.uniform(0, 1, size)\n",
    "    return df"
   ]
  },
  {
   "cell_type": "markdown",
   "id": "27bb6773-cbfe-4d5d-9e02-a26299bb15ad",
   "metadata": {},
   "source": [
    "#### Looking into the data"
   ]
  },
  {
   "cell_type": "markdown",
   "id": "426729c6-4629-46f0-a729-034bc8137aae",
   "metadata": {},
   "source": [
    "#### df.info()"
   ]
  },
  {
   "cell_type": "code",
   "execution_count": 3,
   "id": "30607fa3-839e-42e3-94d7-c203d14385b7",
   "metadata": {},
   "outputs": [
    {
     "name": "stdout",
     "output_type": "stream",
     "text": [
      "<class 'pandas.core.frame.DataFrame'>\n",
      "RangeIndex: 10 entries, 0 to 9\n",
      "Data columns (total 5 columns):\n",
      " #   Column      Non-Null Count  Dtype  \n",
      "---  ------      --------------  -----  \n",
      " 0   Position    10 non-null     object \n",
      " 1   Age         10 non-null     int32  \n",
      " 2   Team_color  10 non-null     object \n",
      " 3   Outcome     10 non-null     object \n",
      " 4   Odds        10 non-null     float64\n",
      "dtypes: float64(1), int32(1), object(3)\n",
      "memory usage: 488.0+ bytes\n"
     ]
    },
    {
     "data": {
      "text/plain": [
       "'True always show memory usage. False never shows memory usage.\\nA value of ‘deep’ is equivalent to “True with deep introspection”. \\nMemory usage is shown in human-readable units (base-2 representation).\\nWith deep memory introspection, a real memory usage calculation is performed at the cost of computational resources.\\n'"
      ]
     },
     "execution_count": 3,
     "metadata": {},
     "output_type": "execute_result"
    }
   ],
   "source": [
    "# Generate a sample fictituos data\n",
    "df = get_gameStat(10)\n",
    "\n",
    "'''Print a concise summary of a DataFrame.\n",
    "This method prints information about a DataFrame including the index dtype and columns, non-null values and memory usage.'''\n",
    "df.info()\n",
    "\n",
    "# Arguments\n",
    "'''Whether to print the full summary. By default, the setting in pandas.options.display.max_info_columns is followed.'''\n",
    "# df.info(verbose = False)\n",
    "\n",
    "'''Whether to \"show_counts\" the non-null counts. By default, this is shown only if the DataFrame is smaller than \n",
    "pandas.options.display.max_info_rows and pandas.options.display.max_info_columns'''\n",
    "\n",
    "'''Specifies whether total memory usage of the DataFrame elements (including the index) should be displayed. \n",
    "By default, this follows the pandas.options.display.memory_usage setting.'''\n",
    "\n",
    "'''True always show memory usage. False never shows memory usage.\n",
    "A value of ‘deep’ is equivalent to “True with deep introspection”. \n",
    "Memory usage is shown in human-readable units (base-2 representation).\n",
    "With deep memory introspection, a real memory usage calculation is performed at the cost of computational resources.\n",
    "'''\n",
    "# df.info(show_counts = False, memory_usage = 'deep')\n",
    "\n"
   ]
  },
  {
   "cell_type": "code",
   "execution_count": 4,
   "id": "e9a12102-78ab-4f2f-9612-05ed637e7fb5",
   "metadata": {},
   "outputs": [
    {
     "name": "stdout",
     "output_type": "stream",
     "text": [
      "<class 'pandas.core.frame.DataFrame'>\n",
      "RangeIndex: 10 entries, 0 to 9\n",
      "Data columns (total 5 columns):\n",
      " #   Column      Non-Null Count  Dtype   \n",
      "---  ------      --------------  -----   \n",
      " 0   Position    10 non-null     category\n",
      " 1   Age         10 non-null     int32   \n",
      " 2   Team_color  10 non-null     object  \n",
      " 3   Outcome     10 non-null     object  \n",
      " 4   Odds        10 non-null     float64 \n",
      "dtypes: category(1), float64(1), int32(1), object(2)\n",
      "memory usage: 550.0+ bytes\n"
     ]
    }
   ],
   "source": [
    "# Change the Datatype of a Series.\n",
    "# do not use \"Category\" instead use lower case \"c\". An Error TypeError: data type 'Category' not understood\n",
    "df['Position']=df.Position.astype(dtype='object')\n",
    "\n",
    "# Two ways of converting the Position to a category\n",
    "#1 astype\n",
    "# df['Position'] = df.Position.astype('category')\n",
    "\n",
    "#2 Categorical function \n",
    "# df['Position']=pd.Categorical(df.Position)\n",
    "df['Position']=pd.Categorical(df['Position'])\n",
    "\n",
    "df.info()"
   ]
  },
  {
   "cell_type": "code",
   "execution_count": 5,
   "id": "e8b624d1-eba2-43e0-9168-5a40730a1748",
   "metadata": {},
   "outputs": [
    {
     "data": {
      "text/plain": [
       "<bound method DataFrame.info of   Position  Age Team_color Outcome      Odds\n",
       "0     Back   21     Orange     Win  0.964479\n",
       "1    Front   22      Black    Lose  0.136885\n",
       "2   Center   28       Blue     Win  0.977149\n",
       "3     Back   19      Black     Win  0.089189\n",
       "4   Center   38        Red    Lose  0.981001\n",
       "5     Back   21       Blue     Win  0.337809\n",
       "6   Center   20       Blue     Win  0.109058\n",
       "7     Back   26      White     Tie  0.862672\n",
       "8   Center   21      White     Tie  0.218450\n",
       "9     Back   28      White    Lose  0.080355>"
      ]
     },
     "execution_count": 5,
     "metadata": {},
     "output_type": "execute_result"
    }
   ],
   "source": [
    "# Output will be different without the \"()\"\n",
    "df.info"
   ]
  },
  {
   "cell_type": "markdown",
   "id": "1013961c-8693-46e8-8d75-ac7b8ba8fa00",
   "metadata": {},
   "source": [
    "#### df.shape"
   ]
  },
  {
   "cell_type": "code",
   "execution_count": 6,
   "id": "84ec3f41-5abd-4f6c-801a-b94de79f064f",
   "metadata": {},
   "outputs": [
    {
     "data": {
      "text/plain": [
       "(10, 5)"
      ]
     },
     "execution_count": 6,
     "metadata": {},
     "output_type": "execute_result"
    }
   ],
   "source": [
    "'''Return a tuple representing the dimensionality of the DataFrame.\n",
    "(Number of Rows, Number of Columns).\"shape\" is an attribute does not require a () '''\n",
    "\n",
    "df.shape"
   ]
  },
  {
   "cell_type": "markdown",
   "id": "cc65c43b-3716-470b-bc4a-e8a6aa894863",
   "metadata": {},
   "source": [
    "#### df.describe"
   ]
  },
  {
   "cell_type": "code",
   "execution_count": 7,
   "id": "6eaa28b2-c5b2-4eef-aadb-6c72baa0560a",
   "metadata": {},
   "outputs": [
    {
     "data": {
      "text/plain": [
       "<bound method NDFrame.describe of   Position  Age Team_color Outcome      Odds\n",
       "0     Back   21     Orange     Win  0.964479\n",
       "1    Front   22      Black    Lose  0.136885\n",
       "2   Center   28       Blue     Win  0.977149\n",
       "3     Back   19      Black     Win  0.089189\n",
       "4   Center   38        Red    Lose  0.981001\n",
       "5     Back   21       Blue     Win  0.337809\n",
       "6   Center   20       Blue     Win  0.109058\n",
       "7     Back   26      White     Tie  0.862672\n",
       "8   Center   21      White     Tie  0.218450\n",
       "9     Back   28      White    Lose  0.080355>"
      ]
     },
     "execution_count": 7,
     "metadata": {},
     "output_type": "execute_result"
    }
   ],
   "source": [
    "'''Descriptive statistics include those that summarize the central tendency, \n",
    "dispersion and shape of a dataset’s distribution, excluding NaN values.'''\n",
    "\n",
    "df.describe"
   ]
  },
  {
   "cell_type": "code",
   "execution_count": 8,
   "id": "d7f64a54-76c4-4916-9404-c43d7203a331",
   "metadata": {},
   "outputs": [
    {
     "data": {
      "text/html": [
       "<div>\n",
       "<style scoped>\n",
       "    .dataframe tbody tr th:only-of-type {\n",
       "        vertical-align: middle;\n",
       "    }\n",
       "\n",
       "    .dataframe tbody tr th {\n",
       "        vertical-align: top;\n",
       "    }\n",
       "\n",
       "    .dataframe thead th {\n",
       "        text-align: right;\n",
       "    }\n",
       "</style>\n",
       "<table border=\"1\" class=\"dataframe\">\n",
       "  <thead>\n",
       "    <tr style=\"text-align: right;\">\n",
       "      <th></th>\n",
       "      <th>Position</th>\n",
       "      <th>Age</th>\n",
       "      <th>Team_color</th>\n",
       "      <th>Outcome</th>\n",
       "      <th>Odds</th>\n",
       "    </tr>\n",
       "  </thead>\n",
       "  <tbody>\n",
       "    <tr>\n",
       "      <th>count</th>\n",
       "      <td>10</td>\n",
       "      <td>10.000000</td>\n",
       "      <td>10</td>\n",
       "      <td>10</td>\n",
       "      <td>10.000000</td>\n",
       "    </tr>\n",
       "    <tr>\n",
       "      <th>unique</th>\n",
       "      <td>3</td>\n",
       "      <td>NaN</td>\n",
       "      <td>5</td>\n",
       "      <td>3</td>\n",
       "      <td>NaN</td>\n",
       "    </tr>\n",
       "    <tr>\n",
       "      <th>top</th>\n",
       "      <td>Back</td>\n",
       "      <td>NaN</td>\n",
       "      <td>Blue</td>\n",
       "      <td>Win</td>\n",
       "      <td>NaN</td>\n",
       "    </tr>\n",
       "    <tr>\n",
       "      <th>freq</th>\n",
       "      <td>5</td>\n",
       "      <td>NaN</td>\n",
       "      <td>3</td>\n",
       "      <td>5</td>\n",
       "      <td>NaN</td>\n",
       "    </tr>\n",
       "    <tr>\n",
       "      <th>mean</th>\n",
       "      <td>NaN</td>\n",
       "      <td>24.400000</td>\n",
       "      <td>NaN</td>\n",
       "      <td>NaN</td>\n",
       "      <td>0.475705</td>\n",
       "    </tr>\n",
       "    <tr>\n",
       "      <th>std</th>\n",
       "      <td>NaN</td>\n",
       "      <td>5.796551</td>\n",
       "      <td>NaN</td>\n",
       "      <td>NaN</td>\n",
       "      <td>0.413056</td>\n",
       "    </tr>\n",
       "    <tr>\n",
       "      <th>min</th>\n",
       "      <td>NaN</td>\n",
       "      <td>19.000000</td>\n",
       "      <td>NaN</td>\n",
       "      <td>NaN</td>\n",
       "      <td>0.080355</td>\n",
       "    </tr>\n",
       "    <tr>\n",
       "      <th>25%</th>\n",
       "      <td>NaN</td>\n",
       "      <td>21.000000</td>\n",
       "      <td>NaN</td>\n",
       "      <td>NaN</td>\n",
       "      <td>0.116015</td>\n",
       "    </tr>\n",
       "    <tr>\n",
       "      <th>50%</th>\n",
       "      <td>NaN</td>\n",
       "      <td>21.500000</td>\n",
       "      <td>NaN</td>\n",
       "      <td>NaN</td>\n",
       "      <td>0.278130</td>\n",
       "    </tr>\n",
       "    <tr>\n",
       "      <th>75%</th>\n",
       "      <td>NaN</td>\n",
       "      <td>27.500000</td>\n",
       "      <td>NaN</td>\n",
       "      <td>NaN</td>\n",
       "      <td>0.939027</td>\n",
       "    </tr>\n",
       "    <tr>\n",
       "      <th>max</th>\n",
       "      <td>NaN</td>\n",
       "      <td>38.000000</td>\n",
       "      <td>NaN</td>\n",
       "      <td>NaN</td>\n",
       "      <td>0.981001</td>\n",
       "    </tr>\n",
       "  </tbody>\n",
       "</table>\n",
       "</div>"
      ],
      "text/plain": [
       "       Position        Age Team_color Outcome       Odds\n",
       "count        10  10.000000         10      10  10.000000\n",
       "unique        3        NaN          5       3        NaN\n",
       "top        Back        NaN       Blue     Win        NaN\n",
       "freq          5        NaN          3       5        NaN\n",
       "mean        NaN  24.400000        NaN     NaN   0.475705\n",
       "std         NaN   5.796551        NaN     NaN   0.413056\n",
       "min         NaN  19.000000        NaN     NaN   0.080355\n",
       "25%         NaN  21.000000        NaN     NaN   0.116015\n",
       "50%         NaN  21.500000        NaN     NaN   0.278130\n",
       "75%         NaN  27.500000        NaN     NaN   0.939027\n",
       "max         NaN  38.000000        NaN     NaN   0.981001"
      ]
     },
     "execution_count": 8,
     "metadata": {},
     "output_type": "execute_result"
    }
   ],
   "source": [
    "'''Descriptive statistics include those that summarize the central tendency, \n",
    "dispersion and shape of a dataset’s distribution, excluding NaN values.'''\n",
    "\n",
    "# df.describe\n",
    "\n",
    "# Argument\n",
    "'''percentileslist-like of numbers, optional\n",
    "The percentiles to include in the output. All should fall between 0 and 1. \n",
    "The default is [.25, .5, .75], which returns the 25th, 50th, and 75th percentiles.'''\n",
    "\n",
    "# Below code describe \"all\" columns specifying its datatype.\n",
    "df.describe(include = 'all')"
   ]
  },
  {
   "cell_type": "code",
   "execution_count": 9,
   "id": "6f3c20f8-0536-4235-ab8e-8e3b5df27ce8",
   "metadata": {},
   "outputs": [
    {
     "data": {
      "text/html": [
       "<div>\n",
       "<style scoped>\n",
       "    .dataframe tbody tr th:only-of-type {\n",
       "        vertical-align: middle;\n",
       "    }\n",
       "\n",
       "    .dataframe tbody tr th {\n",
       "        vertical-align: top;\n",
       "    }\n",
       "\n",
       "    .dataframe thead th {\n",
       "        text-align: right;\n",
       "    }\n",
       "</style>\n",
       "<table border=\"1\" class=\"dataframe\">\n",
       "  <thead>\n",
       "    <tr style=\"text-align: right;\">\n",
       "      <th></th>\n",
       "      <th>Age</th>\n",
       "      <th>Odds</th>\n",
       "    </tr>\n",
       "  </thead>\n",
       "  <tbody>\n",
       "    <tr>\n",
       "      <th>count</th>\n",
       "      <td>10.000000</td>\n",
       "      <td>10.000000</td>\n",
       "    </tr>\n",
       "    <tr>\n",
       "      <th>mean</th>\n",
       "      <td>24.400000</td>\n",
       "      <td>0.475705</td>\n",
       "    </tr>\n",
       "    <tr>\n",
       "      <th>std</th>\n",
       "      <td>5.796551</td>\n",
       "      <td>0.413056</td>\n",
       "    </tr>\n",
       "    <tr>\n",
       "      <th>min</th>\n",
       "      <td>19.000000</td>\n",
       "      <td>0.080355</td>\n",
       "    </tr>\n",
       "    <tr>\n",
       "      <th>25%</th>\n",
       "      <td>21.000000</td>\n",
       "      <td>0.116015</td>\n",
       "    </tr>\n",
       "    <tr>\n",
       "      <th>50%</th>\n",
       "      <td>21.500000</td>\n",
       "      <td>0.278130</td>\n",
       "    </tr>\n",
       "    <tr>\n",
       "      <th>75%</th>\n",
       "      <td>27.500000</td>\n",
       "      <td>0.939027</td>\n",
       "    </tr>\n",
       "    <tr>\n",
       "      <th>max</th>\n",
       "      <td>38.000000</td>\n",
       "      <td>0.981001</td>\n",
       "    </tr>\n",
       "  </tbody>\n",
       "</table>\n",
       "</div>"
      ],
      "text/plain": [
       "             Age       Odds\n",
       "count  10.000000  10.000000\n",
       "mean   24.400000   0.475705\n",
       "std     5.796551   0.413056\n",
       "min    19.000000   0.080355\n",
       "25%    21.000000   0.116015\n",
       "50%    21.500000   0.278130\n",
       "75%    27.500000   0.939027\n",
       "max    38.000000   0.981001"
      ]
     },
     "execution_count": 9,
     "metadata": {},
     "output_type": "execute_result"
    }
   ],
   "source": [
    "# Show only percentile as listed.\n",
    "df.describe(percentiles = [0.25, 0.5, 0.75])\n",
    "# df.describe(percentiles = [0.25, 0.5, 0.75], exclude=[object])"
   ]
  },
  {
   "cell_type": "code",
   "execution_count": 10,
   "id": "ef040351-483f-4e71-bc56-094ed350b781",
   "metadata": {},
   "outputs": [
    {
     "data": {
      "text/html": [
       "<div>\n",
       "<style scoped>\n",
       "    .dataframe tbody tr th:only-of-type {\n",
       "        vertical-align: middle;\n",
       "    }\n",
       "\n",
       "    .dataframe tbody tr th {\n",
       "        vertical-align: top;\n",
       "    }\n",
       "\n",
       "    .dataframe thead th {\n",
       "        text-align: right;\n",
       "    }\n",
       "</style>\n",
       "<table border=\"1\" class=\"dataframe\">\n",
       "  <thead>\n",
       "    <tr style=\"text-align: right;\">\n",
       "      <th></th>\n",
       "      <th>Age</th>\n",
       "      <th>Odds</th>\n",
       "    </tr>\n",
       "  </thead>\n",
       "  <tbody>\n",
       "    <tr>\n",
       "      <th>count</th>\n",
       "      <td>10.000000</td>\n",
       "      <td>10.000000</td>\n",
       "    </tr>\n",
       "    <tr>\n",
       "      <th>mean</th>\n",
       "      <td>24.400000</td>\n",
       "      <td>0.475705</td>\n",
       "    </tr>\n",
       "    <tr>\n",
       "      <th>std</th>\n",
       "      <td>5.796551</td>\n",
       "      <td>0.413056</td>\n",
       "    </tr>\n",
       "    <tr>\n",
       "      <th>min</th>\n",
       "      <td>19.000000</td>\n",
       "      <td>0.080355</td>\n",
       "    </tr>\n",
       "    <tr>\n",
       "      <th>25%</th>\n",
       "      <td>21.000000</td>\n",
       "      <td>0.116015</td>\n",
       "    </tr>\n",
       "    <tr>\n",
       "      <th>50%</th>\n",
       "      <td>21.500000</td>\n",
       "      <td>0.278130</td>\n",
       "    </tr>\n",
       "    <tr>\n",
       "      <th>75%</th>\n",
       "      <td>27.500000</td>\n",
       "      <td>0.939027</td>\n",
       "    </tr>\n",
       "    <tr>\n",
       "      <th>max</th>\n",
       "      <td>38.000000</td>\n",
       "      <td>0.981001</td>\n",
       "    </tr>\n",
       "  </tbody>\n",
       "</table>\n",
       "</div>"
      ],
      "text/plain": [
       "             Age       Odds\n",
       "count  10.000000  10.000000\n",
       "mean   24.400000   0.475705\n",
       "std     5.796551   0.413056\n",
       "min    19.000000   0.080355\n",
       "25%    21.000000   0.116015\n",
       "50%    21.500000   0.278130\n",
       "75%    27.500000   0.939027\n",
       "max    38.000000   0.981001"
      ]
     },
     "execution_count": 10,
     "metadata": {},
     "output_type": "execute_result"
    }
   ],
   "source": [
    "# Shows columns only numeric datatype.\n",
    "df.describe(include = [np.number])"
   ]
  },
  {
   "cell_type": "code",
   "execution_count": 11,
   "id": "7fceab8c-971e-49f7-b21e-737777719cbb",
   "metadata": {},
   "outputs": [
    {
     "data": {
      "text/html": [
       "<div>\n",
       "<style scoped>\n",
       "    .dataframe tbody tr th:only-of-type {\n",
       "        vertical-align: middle;\n",
       "    }\n",
       "\n",
       "    .dataframe tbody tr th {\n",
       "        vertical-align: top;\n",
       "    }\n",
       "\n",
       "    .dataframe thead th {\n",
       "        text-align: right;\n",
       "    }\n",
       "</style>\n",
       "<table border=\"1\" class=\"dataframe\">\n",
       "  <thead>\n",
       "    <tr style=\"text-align: right;\">\n",
       "      <th></th>\n",
       "      <th>Age</th>\n",
       "      <th>Team_color</th>\n",
       "      <th>Outcome</th>\n",
       "      <th>Odds</th>\n",
       "    </tr>\n",
       "  </thead>\n",
       "  <tbody>\n",
       "    <tr>\n",
       "      <th>count</th>\n",
       "      <td>10.000000</td>\n",
       "      <td>10</td>\n",
       "      <td>10</td>\n",
       "      <td>10.000000</td>\n",
       "    </tr>\n",
       "    <tr>\n",
       "      <th>unique</th>\n",
       "      <td>NaN</td>\n",
       "      <td>5</td>\n",
       "      <td>3</td>\n",
       "      <td>NaN</td>\n",
       "    </tr>\n",
       "    <tr>\n",
       "      <th>top</th>\n",
       "      <td>NaN</td>\n",
       "      <td>Blue</td>\n",
       "      <td>Win</td>\n",
       "      <td>NaN</td>\n",
       "    </tr>\n",
       "    <tr>\n",
       "      <th>freq</th>\n",
       "      <td>NaN</td>\n",
       "      <td>3</td>\n",
       "      <td>5</td>\n",
       "      <td>NaN</td>\n",
       "    </tr>\n",
       "    <tr>\n",
       "      <th>mean</th>\n",
       "      <td>24.400000</td>\n",
       "      <td>NaN</td>\n",
       "      <td>NaN</td>\n",
       "      <td>0.475705</td>\n",
       "    </tr>\n",
       "    <tr>\n",
       "      <th>std</th>\n",
       "      <td>5.796551</td>\n",
       "      <td>NaN</td>\n",
       "      <td>NaN</td>\n",
       "      <td>0.413056</td>\n",
       "    </tr>\n",
       "    <tr>\n",
       "      <th>min</th>\n",
       "      <td>19.000000</td>\n",
       "      <td>NaN</td>\n",
       "      <td>NaN</td>\n",
       "      <td>0.080355</td>\n",
       "    </tr>\n",
       "    <tr>\n",
       "      <th>25%</th>\n",
       "      <td>21.000000</td>\n",
       "      <td>NaN</td>\n",
       "      <td>NaN</td>\n",
       "      <td>0.116015</td>\n",
       "    </tr>\n",
       "    <tr>\n",
       "      <th>50%</th>\n",
       "      <td>21.500000</td>\n",
       "      <td>NaN</td>\n",
       "      <td>NaN</td>\n",
       "      <td>0.278130</td>\n",
       "    </tr>\n",
       "    <tr>\n",
       "      <th>75%</th>\n",
       "      <td>27.500000</td>\n",
       "      <td>NaN</td>\n",
       "      <td>NaN</td>\n",
       "      <td>0.939027</td>\n",
       "    </tr>\n",
       "    <tr>\n",
       "      <th>max</th>\n",
       "      <td>38.000000</td>\n",
       "      <td>NaN</td>\n",
       "      <td>NaN</td>\n",
       "      <td>0.981001</td>\n",
       "    </tr>\n",
       "  </tbody>\n",
       "</table>\n",
       "</div>"
      ],
      "text/plain": [
       "              Age Team_color Outcome       Odds\n",
       "count   10.000000         10      10  10.000000\n",
       "unique        NaN          5       3        NaN\n",
       "top           NaN       Blue     Win        NaN\n",
       "freq          NaN          3       5        NaN\n",
       "mean    24.400000        NaN     NaN   0.475705\n",
       "std      5.796551        NaN     NaN   0.413056\n",
       "min     19.000000        NaN     NaN   0.080355\n",
       "25%     21.000000        NaN     NaN   0.116015\n",
       "50%     21.500000        NaN     NaN   0.278130\n",
       "75%     27.500000        NaN     NaN   0.939027\n",
       "max     38.000000        NaN     NaN   0.981001"
      ]
     },
     "execution_count": 11,
     "metadata": {},
     "output_type": "execute_result"
    }
   ],
   "source": [
    "# Including or Excluding a particular column/s\n",
    "# df.describe(include=['category'])\n",
    "\n",
    "'''Below code will exclude the column Position since it is a category.\n",
    "But will show Team_color and Outcome since datatype is an object'''\n",
    "df.describe(exclude=['category'])"
   ]
  },
  {
   "cell_type": "markdown",
   "id": "a6c9dec2-8dac-4ceb-ad04-ee43588e4e33",
   "metadata": {},
   "source": [
    "#### df.head() / df.tail()"
   ]
  },
  {
   "cell_type": "code",
   "execution_count": 12,
   "id": "bc5357d6-51c3-4934-afb2-b02722c8f6af",
   "metadata": {},
   "outputs": [
    {
     "data": {
      "text/html": [
       "<div>\n",
       "<style scoped>\n",
       "    .dataframe tbody tr th:only-of-type {\n",
       "        vertical-align: middle;\n",
       "    }\n",
       "\n",
       "    .dataframe tbody tr th {\n",
       "        vertical-align: top;\n",
       "    }\n",
       "\n",
       "    .dataframe thead th {\n",
       "        text-align: right;\n",
       "    }\n",
       "</style>\n",
       "<table border=\"1\" class=\"dataframe\">\n",
       "  <thead>\n",
       "    <tr style=\"text-align: right;\">\n",
       "      <th></th>\n",
       "      <th>Position</th>\n",
       "      <th>Age</th>\n",
       "      <th>Team_color</th>\n",
       "      <th>Outcome</th>\n",
       "      <th>Odds</th>\n",
       "    </tr>\n",
       "  </thead>\n",
       "  <tbody>\n",
       "    <tr>\n",
       "      <th>0</th>\n",
       "      <td>Back</td>\n",
       "      <td>21</td>\n",
       "      <td>Orange</td>\n",
       "      <td>Win</td>\n",
       "      <td>0.964479</td>\n",
       "    </tr>\n",
       "    <tr>\n",
       "      <th>1</th>\n",
       "      <td>Front</td>\n",
       "      <td>22</td>\n",
       "      <td>Black</td>\n",
       "      <td>Lose</td>\n",
       "      <td>0.136885</td>\n",
       "    </tr>\n",
       "    <tr>\n",
       "      <th>2</th>\n",
       "      <td>Center</td>\n",
       "      <td>28</td>\n",
       "      <td>Blue</td>\n",
       "      <td>Win</td>\n",
       "      <td>0.977149</td>\n",
       "    </tr>\n",
       "    <tr>\n",
       "      <th>3</th>\n",
       "      <td>Back</td>\n",
       "      <td>19</td>\n",
       "      <td>Black</td>\n",
       "      <td>Win</td>\n",
       "      <td>0.089189</td>\n",
       "    </tr>\n",
       "    <tr>\n",
       "      <th>4</th>\n",
       "      <td>Center</td>\n",
       "      <td>38</td>\n",
       "      <td>Red</td>\n",
       "      <td>Lose</td>\n",
       "      <td>0.981001</td>\n",
       "    </tr>\n",
       "    <tr>\n",
       "      <th>5</th>\n",
       "      <td>Back</td>\n",
       "      <td>21</td>\n",
       "      <td>Blue</td>\n",
       "      <td>Win</td>\n",
       "      <td>0.337809</td>\n",
       "    </tr>\n",
       "    <tr>\n",
       "      <th>6</th>\n",
       "      <td>Center</td>\n",
       "      <td>20</td>\n",
       "      <td>Blue</td>\n",
       "      <td>Win</td>\n",
       "      <td>0.109058</td>\n",
       "    </tr>\n",
       "    <tr>\n",
       "      <th>7</th>\n",
       "      <td>Back</td>\n",
       "      <td>26</td>\n",
       "      <td>White</td>\n",
       "      <td>Tie</td>\n",
       "      <td>0.862672</td>\n",
       "    </tr>\n",
       "  </tbody>\n",
       "</table>\n",
       "</div>"
      ],
      "text/plain": [
       "  Position  Age Team_color Outcome      Odds\n",
       "0     Back   21     Orange     Win  0.964479\n",
       "1    Front   22      Black    Lose  0.136885\n",
       "2   Center   28       Blue     Win  0.977149\n",
       "3     Back   19      Black     Win  0.089189\n",
       "4   Center   38        Red    Lose  0.981001\n",
       "5     Back   21       Blue     Win  0.337809\n",
       "6   Center   20       Blue     Win  0.109058\n",
       "7     Back   26      White     Tie  0.862672"
      ]
     },
     "execution_count": 12,
     "metadata": {},
     "output_type": "execute_result"
    }
   ],
   "source": [
    "'''This function returns the first n rows for the object based on position.\n",
    "It is useful for quickly testing if your object has the right type of data in it.'''\n",
    "\n",
    "# n : int, default 5\n",
    "# df.head()\n",
    "df.head(8)"
   ]
  },
  {
   "cell_type": "code",
   "execution_count": 13,
   "id": "62b04069-e322-4e3a-a385-e70646dff9c0",
   "metadata": {},
   "outputs": [
    {
     "data": {
      "text/html": [
       "<div>\n",
       "<style scoped>\n",
       "    .dataframe tbody tr th:only-of-type {\n",
       "        vertical-align: middle;\n",
       "    }\n",
       "\n",
       "    .dataframe tbody tr th {\n",
       "        vertical-align: top;\n",
       "    }\n",
       "\n",
       "    .dataframe thead th {\n",
       "        text-align: right;\n",
       "    }\n",
       "</style>\n",
       "<table border=\"1\" class=\"dataframe\">\n",
       "  <thead>\n",
       "    <tr style=\"text-align: right;\">\n",
       "      <th></th>\n",
       "      <th>Position</th>\n",
       "      <th>Age</th>\n",
       "      <th>Team_color</th>\n",
       "      <th>Outcome</th>\n",
       "      <th>Odds</th>\n",
       "    </tr>\n",
       "  </thead>\n",
       "  <tbody>\n",
       "    <tr>\n",
       "      <th>2</th>\n",
       "      <td>Center</td>\n",
       "      <td>28</td>\n",
       "      <td>Blue</td>\n",
       "      <td>Win</td>\n",
       "      <td>0.977149</td>\n",
       "    </tr>\n",
       "    <tr>\n",
       "      <th>3</th>\n",
       "      <td>Back</td>\n",
       "      <td>19</td>\n",
       "      <td>Black</td>\n",
       "      <td>Win</td>\n",
       "      <td>0.089189</td>\n",
       "    </tr>\n",
       "    <tr>\n",
       "      <th>4</th>\n",
       "      <td>Center</td>\n",
       "      <td>38</td>\n",
       "      <td>Red</td>\n",
       "      <td>Lose</td>\n",
       "      <td>0.981001</td>\n",
       "    </tr>\n",
       "    <tr>\n",
       "      <th>5</th>\n",
       "      <td>Back</td>\n",
       "      <td>21</td>\n",
       "      <td>Blue</td>\n",
       "      <td>Win</td>\n",
       "      <td>0.337809</td>\n",
       "    </tr>\n",
       "    <tr>\n",
       "      <th>6</th>\n",
       "      <td>Center</td>\n",
       "      <td>20</td>\n",
       "      <td>Blue</td>\n",
       "      <td>Win</td>\n",
       "      <td>0.109058</td>\n",
       "    </tr>\n",
       "    <tr>\n",
       "      <th>7</th>\n",
       "      <td>Back</td>\n",
       "      <td>26</td>\n",
       "      <td>White</td>\n",
       "      <td>Tie</td>\n",
       "      <td>0.862672</td>\n",
       "    </tr>\n",
       "    <tr>\n",
       "      <th>8</th>\n",
       "      <td>Center</td>\n",
       "      <td>21</td>\n",
       "      <td>White</td>\n",
       "      <td>Tie</td>\n",
       "      <td>0.218450</td>\n",
       "    </tr>\n",
       "    <tr>\n",
       "      <th>9</th>\n",
       "      <td>Back</td>\n",
       "      <td>28</td>\n",
       "      <td>White</td>\n",
       "      <td>Lose</td>\n",
       "      <td>0.080355</td>\n",
       "    </tr>\n",
       "  </tbody>\n",
       "</table>\n",
       "</div>"
      ],
      "text/plain": [
       "  Position  Age Team_color Outcome      Odds\n",
       "2   Center   28       Blue     Win  0.977149\n",
       "3     Back   19      Black     Win  0.089189\n",
       "4   Center   38        Red    Lose  0.981001\n",
       "5     Back   21       Blue     Win  0.337809\n",
       "6   Center   20       Blue     Win  0.109058\n",
       "7     Back   26      White     Tie  0.862672\n",
       "8   Center   21      White     Tie  0.218450\n",
       "9     Back   28      White    Lose  0.080355"
      ]
     },
     "execution_count": 13,
     "metadata": {},
     "output_type": "execute_result"
    }
   ],
   "source": [
    "'''This function returns last n rows from the object based on position. \n",
    "It is useful for quickly verifying data, for example, after sorting or appending rows.'''\n",
    "\n",
    "# n : int, default 5\n",
    "# df.tail()\n",
    "df.tail(8)"
   ]
  },
  {
   "cell_type": "markdown",
   "id": "95d9ee9f-26d3-437a-ac91-254efbedbbf1",
   "metadata": {},
   "source": [
    "Data Type\tSize\tDescription\n",
    "byte\t   1 byte\tStores whole numbers from -128 to 127\n",
    "short\t   2 bytes\tStores whole numbers from -32,768 to 32,767\n",
    "int\t       4 bytes\tStores whole numbers from -2,147,483,648 to 2,147,483,647\n",
    "long\t   8 bytes\tStores whole numbers from -9,223,372,036,854,775,808 to 9,223,372,036,854,775,807\n",
    "float\t   4 bytes\tStores fractional numbers. Sufficient for storing 6 to 7 decimal digits\n",
    "double\t   8 bytes\tStores fractional numbers. Sufficient for storing 15 decimal digits\n",
    "boolean\t   1 bit\tStores true or false values\n",
    "char\t   2 bytes\tStores a single character/letter or ASCII values"
   ]
  },
  {
   "cell_type": "markdown",
   "id": "e3b0fac0-e9d8-4cd0-91d1-14ebc6aa1d4d",
   "metadata": {},
   "source": [
    "#### df.iloc / df.loc / df.iat / df.at"
   ]
  },
  {
   "cell_type": "code",
   "execution_count": 14,
   "id": "13b5e5e6-eeaf-4512-8ebc-d8c47883d27e",
   "metadata": {},
   "outputs": [
    {
     "data": {
      "text/html": [
       "<div>\n",
       "<style scoped>\n",
       "    .dataframe tbody tr th:only-of-type {\n",
       "        vertical-align: middle;\n",
       "    }\n",
       "\n",
       "    .dataframe tbody tr th {\n",
       "        vertical-align: top;\n",
       "    }\n",
       "\n",
       "    .dataframe thead th {\n",
       "        text-align: right;\n",
       "    }\n",
       "</style>\n",
       "<table border=\"1\" class=\"dataframe\">\n",
       "  <thead>\n",
       "    <tr style=\"text-align: right;\">\n",
       "      <th></th>\n",
       "      <th>Position</th>\n",
       "      <th>Age</th>\n",
       "      <th>Team_color</th>\n",
       "      <th>Outcome</th>\n",
       "      <th>Odds</th>\n",
       "    </tr>\n",
       "  </thead>\n",
       "  <tbody>\n",
       "    <tr>\n",
       "      <th>0</th>\n",
       "      <td>Back</td>\n",
       "      <td>21</td>\n",
       "      <td>Orange</td>\n",
       "      <td>Win</td>\n",
       "      <td>0.964479</td>\n",
       "    </tr>\n",
       "    <tr>\n",
       "      <th>1</th>\n",
       "      <td>Front</td>\n",
       "      <td>22</td>\n",
       "      <td>Black</td>\n",
       "      <td>Lose</td>\n",
       "      <td>0.136885</td>\n",
       "    </tr>\n",
       "    <tr>\n",
       "      <th>2</th>\n",
       "      <td>Center</td>\n",
       "      <td>28</td>\n",
       "      <td>Blue</td>\n",
       "      <td>Win</td>\n",
       "      <td>0.977149</td>\n",
       "    </tr>\n",
       "    <tr>\n",
       "      <th>3</th>\n",
       "      <td>Back</td>\n",
       "      <td>19</td>\n",
       "      <td>Black</td>\n",
       "      <td>Win</td>\n",
       "      <td>0.089189</td>\n",
       "    </tr>\n",
       "    <tr>\n",
       "      <th>4</th>\n",
       "      <td>Center</td>\n",
       "      <td>38</td>\n",
       "      <td>Red</td>\n",
       "      <td>Lose</td>\n",
       "      <td>0.981001</td>\n",
       "    </tr>\n",
       "    <tr>\n",
       "      <th>5</th>\n",
       "      <td>Back</td>\n",
       "      <td>21</td>\n",
       "      <td>Blue</td>\n",
       "      <td>Win</td>\n",
       "      <td>0.337809</td>\n",
       "    </tr>\n",
       "    <tr>\n",
       "      <th>6</th>\n",
       "      <td>Center</td>\n",
       "      <td>20</td>\n",
       "      <td>Blue</td>\n",
       "      <td>Win</td>\n",
       "      <td>0.109058</td>\n",
       "    </tr>\n",
       "    <tr>\n",
       "      <th>7</th>\n",
       "      <td>Back</td>\n",
       "      <td>26</td>\n",
       "      <td>White</td>\n",
       "      <td>Tie</td>\n",
       "      <td>0.862672</td>\n",
       "    </tr>\n",
       "    <tr>\n",
       "      <th>8</th>\n",
       "      <td>Center</td>\n",
       "      <td>21</td>\n",
       "      <td>White</td>\n",
       "      <td>Tie</td>\n",
       "      <td>0.218450</td>\n",
       "    </tr>\n",
       "    <tr>\n",
       "      <th>9</th>\n",
       "      <td>Back</td>\n",
       "      <td>28</td>\n",
       "      <td>White</td>\n",
       "      <td>Lose</td>\n",
       "      <td>0.080355</td>\n",
       "    </tr>\n",
       "  </tbody>\n",
       "</table>\n",
       "</div>"
      ],
      "text/plain": [
       "  Position  Age Team_color Outcome      Odds\n",
       "0     Back   21     Orange     Win  0.964479\n",
       "1    Front   22      Black    Lose  0.136885\n",
       "2   Center   28       Blue     Win  0.977149\n",
       "3     Back   19      Black     Win  0.089189\n",
       "4   Center   38        Red    Lose  0.981001\n",
       "5     Back   21       Blue     Win  0.337809\n",
       "6   Center   20       Blue     Win  0.109058\n",
       "7     Back   26      White     Tie  0.862672\n",
       "8   Center   21      White     Tie  0.218450\n",
       "9     Back   28      White    Lose  0.080355"
      ]
     },
     "execution_count": 14,
     "metadata": {},
     "output_type": "execute_result"
    }
   ],
   "source": [
    "df"
   ]
  },
  {
   "cell_type": "code",
   "execution_count": 15,
   "id": "b7657c9c-2d6b-4c09-a8dd-e3dfaa6a451f",
   "metadata": {},
   "outputs": [
    {
     "data": {
      "text/plain": [
       "Position         Front\n",
       "Age                 22\n",
       "Team_color       Black\n",
       "Outcome           Lose\n",
       "Odds          0.136885\n",
       "Name: 1, dtype: object"
      ]
     },
     "execution_count": 15,
     "metadata": {},
     "output_type": "execute_result"
    }
   ],
   "source": [
    "# position selection by number or integer index\n",
    "df.iloc[1]"
   ]
  },
  {
   "cell_type": "code",
   "execution_count": 16,
   "id": "9e3f1598-d6fb-457f-96b3-5804cc642049",
   "metadata": {},
   "outputs": [
    {
     "data": {
      "text/plain": [
       "Position          Back\n",
       "Age                 26\n",
       "Team_color       White\n",
       "Outcome            Tie\n",
       "Odds          0.862672\n",
       "Name: 7, dtype: object"
      ]
     },
     "execution_count": 16,
     "metadata": {},
     "output_type": "execute_result"
    }
   ],
   "source": [
    "# Almost the same as above code of df.iloc[7]\n",
    "df.loc[7]"
   ]
  },
  {
   "cell_type": "code",
   "execution_count": 17,
   "id": "8be705b1-c34e-4617-942b-2279fc737bdd",
   "metadata": {},
   "outputs": [
    {
     "data": {
      "text/html": [
       "<div>\n",
       "<style scoped>\n",
       "    .dataframe tbody tr th:only-of-type {\n",
       "        vertical-align: middle;\n",
       "    }\n",
       "\n",
       "    .dataframe tbody tr th {\n",
       "        vertical-align: top;\n",
       "    }\n",
       "\n",
       "    .dataframe thead th {\n",
       "        text-align: right;\n",
       "    }\n",
       "</style>\n",
       "<table border=\"1\" class=\"dataframe\">\n",
       "  <thead>\n",
       "    <tr style=\"text-align: right;\">\n",
       "      <th>Datetime</th>\n",
       "      <th>A</th>\n",
       "      <th>B</th>\n",
       "      <th>C</th>\n",
       "      <th>D</th>\n",
       "    </tr>\n",
       "  </thead>\n",
       "  <tbody>\n",
       "    <tr>\n",
       "      <th>2023-01-01</th>\n",
       "      <td>3</td>\n",
       "      <td>3</td>\n",
       "      <td>0</td>\n",
       "      <td>4</td>\n",
       "    </tr>\n",
       "    <tr>\n",
       "      <th>2023-01-02</th>\n",
       "      <td>1</td>\n",
       "      <td>7</td>\n",
       "      <td>5</td>\n",
       "      <td>3</td>\n",
       "    </tr>\n",
       "    <tr>\n",
       "      <th>2023-01-03</th>\n",
       "      <td>1</td>\n",
       "      <td>7</td>\n",
       "      <td>7</td>\n",
       "      <td>1</td>\n",
       "    </tr>\n",
       "    <tr>\n",
       "      <th>2023-01-04</th>\n",
       "      <td>3</td>\n",
       "      <td>0</td>\n",
       "      <td>6</td>\n",
       "      <td>2</td>\n",
       "    </tr>\n",
       "    <tr>\n",
       "      <th>2023-01-05</th>\n",
       "      <td>5</td>\n",
       "      <td>1</td>\n",
       "      <td>5</td>\n",
       "      <td>5</td>\n",
       "    </tr>\n",
       "  </tbody>\n",
       "</table>\n",
       "</div>"
      ],
      "text/plain": [
       "Datetime    A  B  C  D\n",
       "2023-01-01  3  3  0  4\n",
       "2023-01-02  1  7  5  3\n",
       "2023-01-03  1  7  7  1\n",
       "2023-01-04  3  0  6  2\n",
       "2023-01-05  5  1  5  5"
      ]
     },
     "execution_count": 17,
     "metadata": {},
     "output_type": "execute_result"
    }
   ],
   "source": [
    "# Generate sample data\n",
    "dates = pd.date_range('1/1/2023', periods=5)\n",
    "\n",
    "# Generate a 12 by 4 array between integer 0 to 7 (exclude number 8)\n",
    "# np.random.randint(8, size=(12, 4)), \n",
    "#                   index=dates, \n",
    "#                   columns=['Index', 'A', 'B', 'C', 'D'])\n",
    "\n",
    "# Create a sample DataFrame\n",
    "df2 = pd.DataFrame(np.random.randint(8, size=(5, 4)),\n",
    "                  index=dates, \n",
    "                  columns=['A', 'B', 'C', 'D']).rename_axis('Datetime', axis=1)\n",
    "\n",
    "df2"
   ]
  },
  {
   "cell_type": "code",
   "execution_count": 18,
   "id": "1bc6048a-b5b3-4895-b529-2070ce93477b",
   "metadata": {},
   "outputs": [
    {
     "data": {
      "text/plain": [
       "Datetime\n",
       "A    1\n",
       "B    7\n",
       "C    7\n",
       "D    1\n",
       "Name: 2023-01-03 00:00:00, dtype: int32"
      ]
     },
     "execution_count": 18,
     "metadata": {},
     "output_type": "execute_result"
    }
   ],
   "source": [
    "# Get the row data of index '2023-01-03' of all columns\n",
    "df2.loc['2023-01-03']"
   ]
  },
  {
   "cell_type": "code",
   "execution_count": 19,
   "id": "6fd60de6-c5c5-440f-8602-93d571d4ef67",
   "metadata": {},
   "outputs": [
    {
     "data": {
      "text/plain": [
       "Datetime\n",
       "A     True\n",
       "B    False\n",
       "C    False\n",
       "D     True\n",
       "Name: 2023-01-03 00:00:00, dtype: bool"
      ]
     },
     "execution_count": 19,
     "metadata": {},
     "output_type": "execute_result"
    }
   ],
   "source": [
    "# Return a bool of row data '2023-01-03' that is less than 5.\n",
    "df2.loc['2023-01-03'] < 5"
   ]
  },
  {
   "cell_type": "code",
   "execution_count": 20,
   "id": "6d042059-e88e-4a30-9b93-3ca2d63c01dc",
   "metadata": {},
   "outputs": [
    {
     "data": {
      "text/html": [
       "<div>\n",
       "<style scoped>\n",
       "    .dataframe tbody tr th:only-of-type {\n",
       "        vertical-align: middle;\n",
       "    }\n",
       "\n",
       "    .dataframe tbody tr th {\n",
       "        vertical-align: top;\n",
       "    }\n",
       "\n",
       "    .dataframe thead th {\n",
       "        text-align: right;\n",
       "    }\n",
       "</style>\n",
       "<table border=\"1\" class=\"dataframe\">\n",
       "  <thead>\n",
       "    <tr style=\"text-align: right;\">\n",
       "      <th>Datetime</th>\n",
       "      <th>A</th>\n",
       "      <th>B</th>\n",
       "      <th>C</th>\n",
       "      <th>D</th>\n",
       "    </tr>\n",
       "  </thead>\n",
       "  <tbody>\n",
       "    <tr>\n",
       "      <th>2023-01-01</th>\n",
       "      <td>3</td>\n",
       "      <td>3</td>\n",
       "      <td>0</td>\n",
       "      <td>4</td>\n",
       "    </tr>\n",
       "    <tr>\n",
       "      <th>2023-01-02</th>\n",
       "      <td>1</td>\n",
       "      <td>7</td>\n",
       "      <td>5</td>\n",
       "      <td>3</td>\n",
       "    </tr>\n",
       "    <tr>\n",
       "      <th>2023-01-03</th>\n",
       "      <td>1</td>\n",
       "      <td>7</td>\n",
       "      <td>7</td>\n",
       "      <td>1</td>\n",
       "    </tr>\n",
       "    <tr>\n",
       "      <th>2023-01-04</th>\n",
       "      <td>3</td>\n",
       "      <td>0</td>\n",
       "      <td>6</td>\n",
       "      <td>2</td>\n",
       "    </tr>\n",
       "  </tbody>\n",
       "</table>\n",
       "</div>"
      ],
      "text/plain": [
       "Datetime    A  B  C  D\n",
       "2023-01-01  3  3  0  4\n",
       "2023-01-02  1  7  5  3\n",
       "2023-01-03  1  7  7  1\n",
       "2023-01-04  3  0  6  2"
      ]
     },
     "execution_count": 20,
     "metadata": {},
     "output_type": "execute_result"
    }
   ],
   "source": [
    "# Get rows of column \"A\" less than 5\n",
    "df2.loc[df2['A'] < 5]"
   ]
  },
  {
   "cell_type": "code",
   "execution_count": 21,
   "id": "0da7bd76-5844-4cdc-a6dc-9d728cbf00a3",
   "metadata": {},
   "outputs": [
    {
     "data": {
      "text/plain": [
       "<pandas.core.indexing._AtIndexer at 0x2861380a7a0>"
      ]
     },
     "execution_count": 21,
     "metadata": {},
     "output_type": "execute_result"
    }
   ],
   "source": [
    "df2.at"
   ]
  },
  {
   "cell_type": "code",
   "execution_count": 22,
   "id": "5dcccd93-52a3-4e4d-b854-6e2bd0d2e6f7",
   "metadata": {},
   "outputs": [
    {
     "data": {
      "text/plain": [
       "1"
      ]
     },
     "execution_count": 22,
     "metadata": {},
     "output_type": "execute_result"
    }
   ],
   "source": [
    "position = '2023-01-03'\n",
    "label = 'A'\n",
    "\n",
    "# Row and column pair. Looking in row 2023-01-03 at column \"A\"\n",
    "df2.at[position, label] # Result 0"
   ]
  },
  {
   "cell_type": "code",
   "execution_count": 23,
   "id": "aeca88fa-790e-4961-b431-f4d9463a1a50",
   "metadata": {},
   "outputs": [
    {
     "data": {
      "text/plain": [
       "3"
      ]
     },
     "execution_count": 23,
     "metadata": {},
     "output_type": "execute_result"
    }
   ],
   "source": [
    "# Row column pair index\n",
    "# Row index 2023-01-03 and column C\n",
    "df2.iat[2, 2] # 7\n",
    "\n",
    "# Row index 2023-01-02 at column D\n",
    "df2.iat[1, 3] # 5"
   ]
  }
 ],
 "metadata": {
  "kernelspec": {
   "display_name": "Python 3 (ipykernel)",
   "language": "python",
   "name": "python3"
  },
  "language_info": {
   "codemirror_mode": {
    "name": "ipython",
    "version": 3
   },
   "file_extension": ".py",
   "mimetype": "text/x-python",
   "name": "python",
   "nbconvert_exporter": "python",
   "pygments_lexer": "ipython3",
   "version": "3.10.11"
  }
 },
 "nbformat": 4,
 "nbformat_minor": 5
}
